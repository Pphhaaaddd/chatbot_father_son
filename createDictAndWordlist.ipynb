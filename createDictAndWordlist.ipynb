{
 "cells": [
  {
   "cell_type": "code",
   "execution_count": 1,
   "metadata": {},
   "outputs": [],
   "source": [
    "import numpy as np\n",
    "import re\n",
    "import glob\n",
    "import codecs\n",
    "from nltk.tokenize import sent_tokenize,word_tokenize\n",
    "import pickle"
   ]
  },
  {
   "cell_type": "code",
   "execution_count": 2,
   "metadata": {},
   "outputs": [],
   "source": [
    "def takeCareOfLongMessages(theDict):\n",
    "\n",
    "    newresponseDictionary = theDict\n",
    "    keys = []\n",
    "    values = []\n",
    "    for k,v in theDict.items():\n",
    "        keys.append(k)\n",
    "        values.append(v)\n",
    "\n",
    "    for index,key in enumerate(keys):\n",
    "        if len(word_tokenize(key)) >= 50 or len(word_tokenize(values[index])) >= 50 :\n",
    "            key_sentences = sent_tokenize(key)\n",
    "            value_sentences = sent_tokenize(values[index])\n",
    "\n",
    "            for number, value_sentence in enumerate(value_sentences):\n",
    "                for key_sentence in key_sentences:\n",
    "                    for i in range(number):\n",
    "                        key_sentence += ' <pad> '\n",
    "                    newresponseDictionary[key_sentence] = value_sentence\n",
    "\n",
    "    return newresponseDictionary"
   ]
  },
  {
   "cell_type": "code",
   "execution_count": 3,
   "metadata": {},
   "outputs": [],
   "source": [
    "def addEnfOfMessage(theDict):\n",
    "    newresponseDictionary = theDict\n",
    "    keys = []\n",
    "    values = []\n",
    "    for k,v in theDict.items():\n",
    "        v += ' endofmessage '\n",
    "        newresponseDictionary[k] = v\n",
    "    return newresponseDictionary"
   ]
  },
  {
   "cell_type": "code",
   "execution_count": 4,
   "metadata": {},
   "outputs": [],
   "source": [
    "def cleanMessage(message):\n",
    "    # Remove new lines within message\n",
    "    cleanedMessage = message.replace('\\n','')\n",
    "#     cleanedMessage = message.replace('\\?','').lower()\n",
    "    # Remove punctuation\n",
    "    # \tcleanedMessage = re.sub('\\(\\[\\]\\)','', cleanedMessage)\n",
    "    # Remove multiple spaces in message\n",
    "    cleanedMessage = re.sub(' +',' ', cleanedMessage)\n",
    "    cleanedMessage = re.sub('-+','-', cleanedMessage)\n",
    "    cleanedMessage = re.sub('…',' ', cleanedMessage)\n",
    "    cleanedMessage = re.sub('\\.+','.', cleanedMessage)\n",
    "    return cleanedMessage"
   ]
  },
  {
   "cell_type": "code",
   "execution_count": 5,
   "metadata": {},
   "outputs": [],
   "source": [
    "def createResponseDict(name):\n",
    "    personName = name\n",
    "\n",
    "    responseDictionary = dict()\n",
    "    myMessage, otherPersonsMessage, currentSpeaker = \"\",\"\",\"\"\n",
    "    for index,lines in enumerate(allLines):\n",
    "        justMessage = lines\n",
    "        colon = justMessage.find(':')\n",
    "        # Find messages of the current person\n",
    "        if (justMessage[:colon] == personName):\n",
    "            if not myMessage:\n",
    "                # Want to find the first message that person send (if sent multiple in a row)\n",
    "                startMessageIndex = index - 1\n",
    "            myMessage += justMessage[colon+1:]\n",
    "\n",
    "        elif myMessage:\n",
    "            # Now go and see what message the other person sent by looking at previous messages\n",
    "            for counter in range(startMessageIndex, 0, -1):\n",
    "                currentLine = allLines[counter]\n",
    "                justMessage = currentLine\n",
    "                colon = justMessage.find(':')\n",
    "                if not currentSpeaker:\n",
    "                    currentSpeaker = justMessage[:colon]\n",
    "                elif (currentSpeaker != justMessage[:colon] and otherPersonsMessage):\n",
    "                    otherPersonsMessage = cleanMessage(otherPersonsMessage)\n",
    "                    myMessage = cleanMessage(myMessage)\n",
    "                    responseDictionary[otherPersonsMessage] = myMessage\n",
    "                    break\n",
    "                otherPersonsMessage = justMessage[colon+1:] + otherPersonsMessage\n",
    "            if startMessageIndex < 1:\n",
    "                justMessage = lines\n",
    "                colon = justMessage.find(':')\n",
    "                otherPersonsMessage = justMessage[colon+1:]\n",
    "                otherPersonsMessage = cleanMessage(otherPersonsMessage)\n",
    "                currentLine = allLines[2]\n",
    "                colon = currentLine.find(':')\n",
    "                myMessage = cleanMessage(currentLine[colon+1:])\n",
    "                responseDictionary[otherPersonsMessage] = myMessage\n",
    "            myMessage, otherPersonsMessage, currentSpeaker = \"\",\"\",\"\"\n",
    "\n",
    "    responseDictionary = takeCareOfLongMessages(responseDictionary)\n",
    "    responseDictionary = addEnfOfMessage(responseDictionary)\n",
    "    \n",
    "    print('Response Dictionaty for {} created'.format(name))\n",
    "    return responseDictionary"
   ]
  },
  {
   "cell_type": "code",
   "execution_count": 6,
   "metadata": {},
   "outputs": [
    {
     "name": "stdout",
     "output_type": "stream",
     "text": [
      "Files found:  ['files/002.txt', 'files/conversation.txt']\n"
     ]
    }
   ],
   "source": [
    "#Read files and Remove empty lines\n",
    "filenames = sorted(glob.glob('files/*.txt'))\n",
    "print(\"Files found: \", filenames)\n",
    "\n",
    "allLines = []\n",
    "for filename in filenames:\n",
    "\twith codecs.open(filename, \"r\", \"utf-8\") as file:\n",
    "\t\tallLines.append(file.readlines())\n",
    "allLines = [item for sublist in allLines for item in sublist]\n",
    "while '\\n' in allLines: allLines.remove('\\n')"
   ]
  },
  {
   "cell_type": "code",
   "execution_count": 7,
   "metadata": {},
   "outputs": [
    {
     "name": "stdout",
     "output_type": "stream",
     "text": [
      "Response Dictionaty for son created\n"
     ]
    }
   ],
   "source": [
    "#This is for the son\n",
    "responseDictionary = createResponseDict('son')\n",
    "        \n",
    "np.save('data/sonConversationDictionary.npy', responseDictionary)\n",
    "\n",
    "conversationFile = open('data/sonConversationData.txt', 'w')\n",
    "for key,value in responseDictionary.items():\n",
    "    if (not key.strip() or not value.strip()):\n",
    "        # If there are empty strings\n",
    "        continue\n",
    "    conversationFile.write(key.strip() + ' ' + value.strip() + ' ')\n",
    "conversationFile.close()"
   ]
  },
  {
   "cell_type": "code",
   "execution_count": 8,
   "metadata": {},
   "outputs": [
    {
     "name": "stdout",
     "output_type": "stream",
     "text": [
      "Response Dictionaty for father created\n"
     ]
    }
   ],
   "source": [
    "#This is for the father\n",
    "responseDictionary = createResponseDict('father')\n",
    "        \n",
    "np.save('data/fatherConversationDictionary.npy', responseDictionary)\n",
    "\n",
    "conversationFile = open('data/fatherConversationData.txt', 'w')\n",
    "for key,value in responseDictionary.items():\n",
    "    if (not key.strip() or not value.strip()):\n",
    "        # If there are empty strings\n",
    "        continue\n",
    "    conversationFile.write(key.strip() + ' ' + value.strip() + ' ')\n",
    "conversationFile.close()"
   ]
  },
  {
   "cell_type": "code",
   "execution_count": 9,
   "metadata": {},
   "outputs": [],
   "source": [
    "def processDataset(filename):\n",
    "    openedFile = open(filename, 'r')\n",
    "    allLines = openedFile.readlines()\n",
    "    myStr = \"\"\n",
    "    for line in allLines:\n",
    "        myStr += line\n",
    "    finalDict = list(set(word_tokenize(myStr)))\n",
    "    return myStr, finalDict"
   ]
  },
  {
   "cell_type": "code",
   "execution_count": 10,
   "metadata": {},
   "outputs": [],
   "source": [
    "def cleanDict(datasetDictionary):\n",
    "    if \"I.\" in datasetDictionary: datasetDictionary.remove('i.').remove('c')\n",
    "    return datasetDictionary"
   ]
  },
  {
   "cell_type": "code",
   "execution_count": 11,
   "metadata": {},
   "outputs": [
    {
     "name": "stdout",
     "output_type": "stream",
     "text": [
      "Finished parsing and cleaning dataset\n",
      "Created file data/sonWordList.txt\n"
     ]
    }
   ],
   "source": [
    "#this is for son-bot\n",
    "fullCorpus, datasetDictionary = processDataset('data/sonConversationData.txt')\n",
    "print('Finished parsing and cleaning dataset')\n",
    "\n",
    "# Remove unwanted words/foul language etc.\n",
    "datasetDictionary = cleanDict(datasetDictionary)\n",
    "wordList = list(datasetDictionary)\n",
    "\n",
    "with open(\"data/sonWordList.txt\", \"wb\") as fp:\n",
    "\tpickle.dump(wordList, fp)\n",
    "print('Created file data/sonWordList.txt')"
   ]
  },
  {
   "cell_type": "code",
   "execution_count": 12,
   "metadata": {},
   "outputs": [
    {
     "name": "stdout",
     "output_type": "stream",
     "text": [
      "Finished parsing and cleaning dataset\n",
      "Created file data/fatherWordList.txt\n"
     ]
    }
   ],
   "source": [
    "#this is for father-bot\n",
    "fullCorpus, datasetDictionary = processDataset('data/fatherConversationData.txt')\n",
    "print('Finished parsing and cleaning dataset')\n",
    "\n",
    "# Remove unwanted words/foul language etc.\n",
    "datasetDictionary = cleanDict(datasetDictionary)\n",
    "wordList = list(datasetDictionary)\n",
    "\n",
    "with open(\"data/fatherWordList.txt\", \"wb\") as fp:\n",
    "\tpickle.dump(wordList, fp)\n",
    "print('Created file data/fatherWordList.txt')\n"
   ]
  },
  {
   "cell_type": "code",
   "execution_count": null,
   "metadata": {},
   "outputs": [],
   "source": []
  }
 ],
 "metadata": {
  "kernelspec": {
   "display_name": "Python 3",
   "language": "python",
   "name": "python3"
  },
  "language_info": {
   "codemirror_mode": {
    "name": "ipython",
    "version": 3
   },
   "file_extension": ".py",
   "mimetype": "text/x-python",
   "name": "python",
   "nbconvert_exporter": "python",
   "pygments_lexer": "ipython3",
   "version": "3.6.7"
  }
 },
 "nbformat": 4,
 "nbformat_minor": 2
}
