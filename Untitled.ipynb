{
 "cells": [
  {
   "cell_type": "code",
   "execution_count": 3,
   "metadata": {},
   "outputs": [
    {
     "data": {
      "text/plain": [
       "[\"son:  hey dad, let's talk about your childhood, i’ve always been curious\\n\",\n",
       " 'father:  you know i was never as good of a kid as you\\n',\n",
       " 'son:  i know, you’ve always mentioned\\n',\n",
       " 'father:  i think it was different growing up in a smaller city\\n',\n",
       " 'son:  probably, growing up in london is a bit of a weird one\\n',\n",
       " 'father:  in what way?\\n',\n",
       " 'son:  i don’t know, you sort of get used to having so many things and people around you\\n',\n",
       " 'father:  that makes sense, honestly i was always just looking for something to pass the time\\n',\n",
       " 'son:  like what?\\n',\n",
       " 'father:  so there was this one time where i actually blew the roof off of my house\\n',\n",
       " 'son:  what? i remember this story vaguely!\\n',\n",
       " 'father:  what happened was i got this science kit of my birthday\\n',\n",
       " 'son:  the crappy ones you can buy in a toy shop?\\n',\n",
       " 'father:  yes! but what i did was i collected the same chemical over and over again from different pharmacies to get enough to make the explosion enormous\\n',\n",
       " 'son:  … and you blew the roof off of your house?\\n',\n",
       " 'father:  well, a hole yes - but my parents were so poor, we lived with a hole in our roof for months\\n',\n",
       " 'son:  what did your parents say?\\n',\n",
       " 'father:  they were both so angry, but my parents had a lot of love for me i think, so it was fine in the end\\n',\n",
       " 'son:  was this in winter?\\n',\n",
       " 'father:  thankfully not, it did get quite cold though at times\\n',\n",
       " 'father:  you know i do think back to those times very fondly however, they were good times. life was more simple, but maybe that’s just how it is as a kid no?\\n',\n",
       " 'son:  yep, i remember everything being so much easier. remember when i used to wake up and watch cartoons on a saturday and you used to make pancakes?\\n',\n",
       " 'father:  those were so good!\\n',\n",
       " 'son:  i remember the smell the most, and the feeling of the warm sun coming through the windows\\n',\n",
       " 'father:  remember all the plants we used to have?\\n',\n",
       " 'son:  of course!\\n',\n",
       " 'father:  it was always important for me to have you grow up around plants\\n',\n",
       " 'son:  really? why?\\n',\n",
       " 'father:  i’m not entirely sure, maybe because i had that when i was younger? you know it was always a struggle for me to accept that you were growing up in a big city like london, with so much at your disposal, including a middle class family\\n',\n",
       " 'father: like, i had nothing, and you had everything handed to you. i feel as though it was such an integral part of my education to have to fend for myself\\n',\n",
       " 'son:  yes i know, but honestly i feel as though you just assumed i had to learn that stuff at way too young of an age\\n',\n",
       " 'father:  what do you mean?\\n',\n",
       " 'son:  well it’s just i remember when you used to force me to go out and get stuff from the shops when it was dark, or getting something from your motorbike when i was really young. it was scary.\\n',\n",
       " 'father:  yeah i know, probably not the best move\\n',\n",
       " 'son:  like i know that you wanted me to be more ‘streetwise’ but honestly i was like ten years old, i’m sure it would have come more naturally.\\n',\n",
       " 'father:  i know, i’m sorry… i do think about these things a lot. i really just didn’t know sometimes\\n',\n",
       " 'son:  it’s ok, honestly i’m really way over it now\\n',\n",
       " 'father:  i’m glad\\n',\n",
       " 'son:  what was your father like to you?\\n',\n",
       " 'father:  i loved him so much, it was so difficult when i was growing up as i said, we have nothing. my dad tried and tried to make our life better but it was difficult sometimes.\\n',\n",
       " 'son:  in what sense?\\n',\n",
       " 'father:  well, we never really got the holidays you get now, the food, etc…\\n',\n",
       " 'son:  yes, but having all this doesn’t make me love you more or less? surely it would be the same with you and your dad?\\n',\n",
       " 'father:  oh yes, completely. i think i even loved him more, or love him more now because i understand the effort he put into making our life better.\\n',\n",
       " 'son:  he was a communist wasn’t he?\\n',\n",
       " 'father:  yes, and i was part of the communist party for a while too, we all grew up as a very socialist family, giving everything we had, even if we needed it. this is something that’s lacking today i think. your grandpa used to bring home homeless people all the time, it used to drive your grandma insane!\\n',\n",
       " 'son:  why?\\n',\n",
       " 'father:  to be honest, you know how caring and giving i am to others, honestly i’m too trustworthy a lot of the time, but i’m sort of on your grandma’s side for this one. there was this one incident…\\n',\n",
       " 'son:  an incident?\\n',\n",
       " 'father:  yeah, so basically grandpa brought this homeless guy home to sleep in our house. now bare in mind that we basically didn’t even have space for your uncle and i\\n',\n",
       " 'son:  yeah…\\n',\n",
       " 'father:  anyways so we wake up and this guy is gone. nothing unusual, he’s spent the night and that’s that right?\\n',\n",
       " 'son:  yep\\n',\n",
       " 'father:  well, we go into the bathroom and the guy literally smeared shit all over the walls. poor grandpa had to clean it all up…\\n',\n",
       " 'son:  oh man… yeah that’s rough, i’m not sure i would have had the courage to clean that up\\n',\n",
       " 'father:  trust me, with the wrath of your grandma, he had to have the courage\\n',\n",
       " 'son:  it’s sad, you know i never really knew grandpa, but yet i still sort of miss him quite a bit, from time to time\\n',\n",
       " 'father:  well, he was there when you were younger and my god did he love you and your sister\\n',\n",
       " 'son:  i know, i remember a few things.\\n',\n",
       " 'father:  like what?\\n',\n",
       " 'son:  well, i have really clear memories of chateau lignan, where we used to go on holiday sometimes in the south of france\\n',\n",
       " 'father:  oh yeah, those were some really good holidays\\n',\n",
       " 'son:  anyways he would come and visit us sometimes, and bring lola and i presents and i remember being this snotty stupid kid and never appreciating his gifts\\n',\n",
       " 'father:  what do you mean?\\n',\n",
       " 'son:  well, i mean i would smile and say thank you and be all nice, but inside i would just really remember thinking that they were shit gifts. like colouring books and pencils etc\\n',\n",
       " 'father:  yes, but he was always so out of touch with you guys and literally had no money to spend on you\\n',\n",
       " 'son:  i know! i know, honestly i have cried about this now. i see how beautiful of a gesture it was now and how amazing of a man he was.\\n',\n",
       " 'father:  he really was…\\n',\n",
       " 'son:  i now wear the gold chain that he gifted me once\\n',\n",
       " 'father:  wait he gifted you a gold chain?\\n',\n",
       " 'son:  yeah!\\n',\n",
       " 'father:  lucas, do you realise that he probably spent all of what he had for a month on that?\\n',\n",
       " 'son:  i do, you have no idea, this is the kind of stuff that makes me wish i had had more time to get to know him\\n',\n",
       " 'father:  yes, i mean that’s my fault too\\n',\n",
       " 'son:  anyways, so he gifted me this thin gold chain with a guitar pendant on it and i recently found it again about a year ago and i never take it off!\\n',\n",
       " 'father:  no way, yeah i remember seeing that around your neck and taking the piss because you look like a gangster\\n',\n",
       " 'son:  well it’s grandpas! i took off the guitar pendant and it never comes off of my neck\\n',\n",
       " 'father:  that’s really sweet, i bet that he would be so happy to hear that\\n',\n",
       " 'son:  i hope, honestly i regret a lot of things when it comes to him.\\n',\n",
       " 'father:  do you remember when lola and i bought him his new dog?\\n',\n",
       " 'son: oh yes! well i wasn’t there but i certainly remember the story. he cried didn’t he?\\n',\n",
       " 'father:  yes, i mean he was always quite an emotional man, i really respected that in him\\n',\n",
       " 'son:  yeah, i think the older i get, the more i respect people that can tap into their emotions\\n',\n",
       " 'father:  i think we’re both getting better at that\\n',\n",
       " 'son:  yeah definitely\\n']"
      ]
     },
     "execution_count": 3,
     "metadata": {},
     "output_type": "execute_result"
    }
   ],
   "source": [
    "\n",
    "import pandas as pd\n",
    "import numpy as np\n",
    "import os\n",
    "import re\n",
    "from datetime import datetime\n",
    "import nltk\n",
    "\n",
    "def cleanMessage(message):\n",
    "\t# Remove new lines within message\n",
    "\tcleanedMessage = message.replace('\\n',' ').lower()\n",
    "\t# Remove punctuation\n",
    "\tcleanedMessage = re.sub('([.,!?])','', cleanedMessage)\n",
    "\t# cleanedMessage = re.sub(\"\\\\'\",'', cleanedMessage)\n",
    "\t# cleanedMessage = re.sub(\"\\\\,:\",'', cleanedMessage)\n",
    "\t# Remove multiple spaces in message\n",
    "\tcleanedMessage = re.sub(' +',' ', cleanedMessage)\n",
    "\t# cleanedMessage = re.sub('\\W+',' ', cleanedMessage)\n",
    "\treturn cleanedMessage\n",
    "\n",
    "#Read file and Remove empty lines\n",
    "cnvFile = open('files/001.txt', 'r')\n",
    "allLines = cnvFile.readlines()\n",
    "while '\\n' in allLines: allLines.remove('\\n')\n",
    "\n",
    "#convert to everything to lowercase\n",
    "[x.lower() for x in allLines]\n"
   ]
  },
  {
   "cell_type": "code",
   "execution_count": 5,
   "metadata": {},
   "outputs": [
    {
     "data": {
      "text/plain": [
       "list"
      ]
     },
     "execution_count": 5,
     "metadata": {},
     "output_type": "execute_result"
    }
   ],
   "source": [
    "type(allLines)"
   ]
  },
  {
   "cell_type": "code",
   "execution_count": null,
   "metadata": {},
   "outputs": [],
   "source": []
  }
 ],
 "metadata": {
  "kernelspec": {
   "display_name": "Python 3",
   "language": "python",
   "name": "python3"
  },
  "language_info": {
   "codemirror_mode": {
    "name": "ipython",
    "version": 3
   },
   "file_extension": ".py",
   "mimetype": "text/x-python",
   "name": "python",
   "nbconvert_exporter": "python",
   "pygments_lexer": "ipython3",
   "version": "3.6.7"
  }
 },
 "nbformat": 4,
 "nbformat_minor": 2
}
